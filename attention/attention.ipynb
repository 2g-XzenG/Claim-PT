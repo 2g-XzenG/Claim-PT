{
 "cells": [
  {
   "cell_type": "markdown",
   "id": "regulation-chemistry",
   "metadata": {},
   "source": [
    "### Case Study: Attention Visualization\n",
    "To illustrate the benefit of applying attention mechanisms and better understand how attention weights are changed from the pre-training stage to the fine-tuning stage, we analyze the learned attention weights at two different stages through a case study. "
   ]
  },
  {
   "cell_type": "code",
   "execution_count": 1,
   "id": "european-allowance",
   "metadata": {},
   "outputs": [
    {
     "name": "stderr",
     "output_type": "stream",
     "text": [
      "wandb: WARNING W&B installed but not logged in.  Run `wandb login` or set the WANDB_API_KEY env variable.\n"
     ]
    }
   ],
   "source": [
    "import numpy as np\n",
    "import _pickle as pickle\n",
    "import pandas as pd\n",
    "import torch\n",
    "from bertviz import head_view\n",
    "from transformers import BertTokenizer, BertModel\n"
   ]
  },
  {
   "cell_type": "code",
   "execution_count": 2,
   "id": "moderate-translator",
   "metadata": {},
   "outputs": [],
   "source": [
    "fake_data = pickle.load(open(\"./fake_data\", \"rb\"))"
   ]
  },
  {
   "cell_type": "code",
   "execution_count": 3,
   "id": "juvenile-tennis",
   "metadata": {},
   "outputs": [],
   "source": [
    "attention_weights_pretrain = pickle.load(open(\"./attention_weights_pretrain\", \"rb\"))\n",
    "attention_weights_finetune = pickle.load(open(\"./attention_weights_finetune\", \"rb\"))"
   ]
  },
  {
   "cell_type": "code",
   "execution_count": 4,
   "id": "social-affairs",
   "metadata": {},
   "outputs": [],
   "source": [
    "def attention_scores(weights, k):\n",
    "    weight = weights[1][k:k+2]\n",
    "    sentence = [list(x)[1][:7] for x in fake_data[k]]\n",
    "    \n",
    "    attn = torch.tensor(weight[:, :len(sentence), :len(sentence)])\n",
    "    attn = attn.repeat(1, 1, 1, 1)\n",
    "    attn_new = []\n",
    "    for _ in range(1):\n",
    "        attn_new.append(attn)\n",
    "    x = head_view(attn_new, sentence)\n",
    "    return "
   ]
  },
  {
   "cell_type": "markdown",
   "id": "floating-surge",
   "metadata": {},
   "source": [
    "# Select Patient Index"
   ]
  },
  {
   "cell_type": "code",
   "execution_count": 5,
   "id": "specialized-maximum",
   "metadata": {},
   "outputs": [],
   "source": [
    "k=0"
   ]
  },
  {
   "cell_type": "markdown",
   "id": "according-assets",
   "metadata": {},
   "source": [
    "# Pretrain"
   ]
  },
  {
   "cell_type": "code",
   "execution_count": 6,
   "id": "living-gates",
   "metadata": {
    "scrolled": true
   },
   "outputs": [
    {
     "data": {
      "text/html": [
       "<script src=\"https://cdnjs.cloudflare.com/ajax/libs/require.js/2.3.6/require.min.js\"></script>"
      ],
      "text/plain": [
       "<IPython.core.display.HTML object>"
      ]
     },
     "metadata": {},
     "output_type": "display_data"
    },
    {
     "data": {
      "text/html": [
       "      \n",
       "        <div id='bertviz-973440206fb84c43a608ed88945dabed'>\n",
       "            <span style=\"user-select:none\">\n",
       "                Layer: <select id=\"layer\"></select>\n",
       "                \n",
       "            </span>\n",
       "            <div id='vis'></div>\n",
       "        </div>\n",
       "    "
      ],
      "text/plain": [
       "<IPython.core.display.HTML object>"
      ]
     },
     "metadata": {},
     "output_type": "display_data"
    },
    {
     "data": {
      "application/javascript": "/**\n * @fileoverview Transformer Visualization D3 javascript code.\n *\n *\n *  Based on: https://github.com/tensorflow/tensor2tensor/blob/master/tensor2tensor/visualization/attention.js\n *\n * Change log:\n *\n * 12/19/18  Jesse Vig   Assorted cleanup. Changed orientation of attention matrices.\n * 12/29/20  Jesse Vig   Significant refactor.\n * 12/31/20  Jesse Vig   Support multiple visualizations in single notebook.\n * 02/06/21  Jesse Vig   Move require config from separate jupyter notebook step\n * 05/03/21  Jesse Vig   Adjust height of visualization dynamically\n * 07/25/21  Jesse Vig   Support layer filtering\n **/\n\nrequire.config({\n  paths: {\n      d3: '//cdnjs.cloudflare.com/ajax/libs/d3/5.7.0/d3.min',\n    jquery: '//ajax.googleapis.com/ajax/libs/jquery/2.0.0/jquery.min',\n  }\n});\n\nrequirejs(['jquery', 'd3'], function ($, d3) {\n\n    const params = {\"attention\": [{\"name\": null, \"attn\": [[[[0.16614454984664917, 0.1271992027759552, 0.11374139040708542, 0.15638020634651184, 0.20374387502670288, 0.11444535851478577, 0.11834541708230972], [0.16203011572360992, 0.1401018649339676, 0.13978800177574158, 0.1404246836900711, 0.13866281509399414, 0.13900551199913025, 0.1399870365858078], [0.14190000295639038, 0.14325059950351715, 0.14268504083156586, 0.14326979219913483, 0.14316092431545258, 0.14276131987571716, 0.14297233521938324], [0.1783653199672699, 0.13668516278266907, 0.13705065846443176, 0.13718663156032562, 0.1375586986541748, 0.1364724338054657, 0.13668116927146912], [0.17943505942821503, 0.13677170872688293, 0.13591942191123962, 0.13615824282169342, 0.13820093870162964, 0.13686884939670563, 0.13664573431015015], [0.1567888855934143, 0.1408628672361374, 0.14035286009311676, 0.1405779868364334, 0.14033928513526917, 0.14011918008327484, 0.14095890522003174], [0.1511572003364563, 0.1412300169467926, 0.14104074239730835, 0.14131779968738556, 0.14250311255455017, 0.1413128525018692, 0.14143821597099304]], [[0.047577470541000366, 0.04034224525094032, 0.03173127770423889, 0.03325849026441574, 0.05665835365653038, 0.040445178747177124, 0.03266838937997818], [0.03983418643474579, 0.03432993218302727, 0.0343342199921608, 0.034387726336717606, 0.034017566591501236, 0.03415762633085251, 0.03437581658363342], [0.0348617359995842, 0.03448709473013878, 0.034443072974681854, 0.034463874995708466, 0.0343620628118515, 0.03469187021255493, 0.03444177284836769], [0.03609755262732506, 0.03446199744939804, 0.03440416231751442, 0.034431908279657364, 0.03436928614974022, 0.034668270498514175, 0.0344182550907135], [0.04275275021791458, 0.034237828105688095, 0.03420986980199814, 0.03424009680747986, 0.03407548740506172, 0.03425997495651245, 0.03429330885410309], [0.04144877940416336, 0.034321531653404236, 0.034290462732315063, 0.03432182967662811, 0.03395794332027435, 0.03400801867246628, 0.0343194305896759], [0.03561968356370926, 0.034495096653699875, 0.034405313432216644, 0.03443482518196106, 0.034406013786792755, 0.03469153866171837, 0.03441842645406723]]]], \"left_text\": [\"P_99284\", \"D_948.0\", \"D_944.2\", \"M_POLYE\", \"P_272\", \"P_99254\", \"P_270\"], \"right_text\": [\"P_99284\", \"D_948.0\", \"D_944.2\", \"M_POLYE\", \"P_272\", \"P_99254\", \"P_270\"]}], \"default_filter\": \"0\", \"root_div_id\": \"bertviz-973440206fb84c43a608ed88945dabed\", \"layer\": null, \"heads\": null, \"include_layers\": [0]}; // HACK: {\"attention\": [{\"name\": null, \"attn\": [[[[0.16614454984664917, 0.1271992027759552, 0.11374139040708542, 0.15638020634651184, 0.20374387502670288, 0.11444535851478577, 0.11834541708230972], [0.16203011572360992, 0.1401018649339676, 0.13978800177574158, 0.1404246836900711, 0.13866281509399414, 0.13900551199913025, 0.1399870365858078], [0.14190000295639038, 0.14325059950351715, 0.14268504083156586, 0.14326979219913483, 0.14316092431545258, 0.14276131987571716, 0.14297233521938324], [0.1783653199672699, 0.13668516278266907, 0.13705065846443176, 0.13718663156032562, 0.1375586986541748, 0.1364724338054657, 0.13668116927146912], [0.17943505942821503, 0.13677170872688293, 0.13591942191123962, 0.13615824282169342, 0.13820093870162964, 0.13686884939670563, 0.13664573431015015], [0.1567888855934143, 0.1408628672361374, 0.14035286009311676, 0.1405779868364334, 0.14033928513526917, 0.14011918008327484, 0.14095890522003174], [0.1511572003364563, 0.1412300169467926, 0.14104074239730835, 0.14131779968738556, 0.14250311255455017, 0.1413128525018692, 0.14143821597099304]], [[0.047577470541000366, 0.04034224525094032, 0.03173127770423889, 0.03325849026441574, 0.05665835365653038, 0.040445178747177124, 0.03266838937997818], [0.03983418643474579, 0.03432993218302727, 0.0343342199921608, 0.034387726336717606, 0.034017566591501236, 0.03415762633085251, 0.03437581658363342], [0.0348617359995842, 0.03448709473013878, 0.034443072974681854, 0.034463874995708466, 0.0343620628118515, 0.03469187021255493, 0.03444177284836769], [0.03609755262732506, 0.03446199744939804, 0.03440416231751442, 0.034431908279657364, 0.03436928614974022, 0.034668270498514175, 0.0344182550907135], [0.04275275021791458, 0.034237828105688095, 0.03420986980199814, 0.03424009680747986, 0.03407548740506172, 0.03425997495651245, 0.03429330885410309], [0.04144877940416336, 0.034321531653404236, 0.034290462732315063, 0.03432182967662811, 0.03395794332027435, 0.03400801867246628, 0.0343194305896759], [0.03561968356370926, 0.034495096653699875, 0.034405313432216644, 0.03443482518196106, 0.034406013786792755, 0.03469153866171837, 0.03441842645406723]]]], \"left_text\": [\"P_99284\", \"D_948.0\", \"D_944.2\", \"M_POLYE\", \"P_272\", \"P_99254\", \"P_270\"], \"right_text\": [\"P_99284\", \"D_948.0\", \"D_944.2\", \"M_POLYE\", \"P_272\", \"P_99254\", \"P_270\"]}], \"default_filter\": \"0\", \"root_div_id\": \"bertviz-973440206fb84c43a608ed88945dabed\", \"layer\": null, \"heads\": null, \"include_layers\": [0]} is a template marker that is replaced by actual params.\n    const TEXT_SIZE = 15;\n    const BOXWIDTH = 110;\n    const BOXHEIGHT = 22.5;\n    const MATRIX_WIDTH = 115;\n    const CHECKBOX_SIZE = 20;\n    const TEXT_TOP = 30;\n\n    console.log(\"d3 version\", d3.version)\n    let headColors;\n    try {\n        headColors = d3.scaleOrdinal(d3.schemeCategory10);\n    } catch (err) {\n        console.log('Older d3 version')\n        headColors = d3.scale.category10();\n    }\n    let config = {};\n    initialize();\n    renderVis();\n\n    function initialize() {\n        config.attention = params['attention'];\n        config.filter = params['default_filter'];\n        config.rootDivId = params['root_div_id'];\n        config.nLayers = config.attention[config.filter]['attn'].length;\n        config.nHeads = config.attention[config.filter]['attn'][0].length;\n        config.layers = params['include_layers']\n\n        if (params['heads']) {\n            config.headVis = new Array(config.nHeads).fill(false);\n            params['heads'].forEach(x => config.headVis[x] = true);\n        } else {\n            config.headVis = new Array(config.nHeads).fill(true);\n        }\n        config.initialTextLength = config.attention[config.filter].right_text.length;\n        config.layer_seq = (params['layer'] == null ? 0 : config.layers.findIndex(layer => params['layer'] === layer));\n        config.layer = config.layers[config.layer_seq]\n\n        let layerEl = $(`#${config.rootDivId} #layer`);\n        for (const layer of config.layers) {\n            layerEl.append($(\"<option />\").val(layer).text(layer));\n        }\n        layerEl.val(config.layer).change();\n        layerEl.on('change', function (e) {\n            config.layer = +e.currentTarget.value;\n            config.layer_seq = config.layers.findIndex(layer => config.layer === layer);\n            renderVis();\n        });\n\n        $(`#${config.rootDivId} #filter`).on('change', function (e) {\n            config.filter = e.currentTarget.value;\n            renderVis();\n        });\n    }\n\n    function renderVis() {\n\n        // Load parameters\n        const attnData = config.attention[config.filter];\n        const leftText = attnData.left_text;\n        const rightText = attnData.right_text;\n\n        // Select attention for given layer\n        const layerAttention = attnData.attn[config.layer_seq];\n\n        // Clear vis\n        $(`#${config.rootDivId} #vis`).empty();\n\n        // Determine size of visualization\n        const height = Math.max(leftText.length, rightText.length) * BOXHEIGHT + TEXT_TOP;\n        const svg = d3.select(`#${config.rootDivId} #vis`)\n            .append('svg')\n            .attr(\"width\", \"100%\")\n            .attr(\"height\", height + \"px\");\n\n        // Display tokens on left and right side of visualization\n        renderText(svg, leftText, true, layerAttention, 0);\n        renderText(svg, rightText, false, layerAttention, MATRIX_WIDTH + BOXWIDTH);\n\n        // Render attention arcs\n        renderAttention(svg, layerAttention);\n\n        // Draw squares at top of visualization, one for each head\n        drawCheckboxes(0, svg, layerAttention);\n    }\n\n    function renderText(svg, text, isLeft, attention, leftPos) {\n\n        const textContainer = svg.append(\"svg:g\")\n            .attr(\"id\", isLeft ? \"left\" : \"right\");\n\n        // Add attention highlights superimposed over words\n        textContainer.append(\"g\")\n            .classed(\"attentionBoxes\", true)\n            .selectAll(\"g\")\n            .data(attention)\n            .enter()\n            .append(\"g\")\n            .attr(\"head-index\", (d, i) => i)\n            .selectAll(\"rect\")\n            .data(d => isLeft ? d : transpose(d)) // if right text, transpose attention to get right-to-left weights\n            .enter()\n            .append(\"rect\")\n            .attr(\"x\", function () {\n                var headIndex = +this.parentNode.getAttribute(\"head-index\");\n                return leftPos + boxOffsets(headIndex);\n            })\n            .attr(\"y\", (+1) * BOXHEIGHT)\n            .attr(\"width\", BOXWIDTH / activeHeads())\n            .attr(\"height\", BOXHEIGHT)\n            .attr(\"fill\", function () {\n                return headColors(+this.parentNode.getAttribute(\"head-index\"))\n            })\n            .style(\"opacity\", 0.0);\n\n        const tokenContainer = textContainer.append(\"g\").selectAll(\"g\")\n            .data(text)\n            .enter()\n            .append(\"g\");\n\n        // Add gray background that appears when hovering over text\n        tokenContainer.append(\"rect\")\n            .classed(\"background\", true)\n            .style(\"opacity\", 0.0)\n            .attr(\"fill\", \"lightgray\")\n            .attr(\"x\", leftPos)\n            .attr(\"y\", (d, i) => TEXT_TOP + i * BOXHEIGHT)\n            .attr(\"width\", BOXWIDTH)\n            .attr(\"height\", BOXHEIGHT);\n\n        // Add token text\n        const textEl = tokenContainer.append(\"text\")\n            .text(d => d)\n            .attr(\"font-size\", TEXT_SIZE + \"px\")\n            .style(\"cursor\", \"default\")\n            .style(\"-webkit-user-select\", \"none\")\n            .attr(\"x\", leftPos)\n            .attr(\"y\", (d, i) => TEXT_TOP + i * BOXHEIGHT);\n\n        if (isLeft) {\n            textEl.style(\"text-anchor\", \"end\")\n                .attr(\"dx\", BOXWIDTH - 0.5 * TEXT_SIZE)\n                .attr(\"dy\", TEXT_SIZE);\n        } else {\n            textEl.style(\"text-anchor\", \"start\")\n                .attr(\"dx\", +0.5 * TEXT_SIZE)\n                .attr(\"dy\", TEXT_SIZE);\n        }\n\n        tokenContainer.on(\"mouseover\", function (d, index) {\n\n            // Show gray background for moused-over token\n            textContainer.selectAll(\".background\")\n                .style(\"opacity\", (d, i) => i === index ? 1.0 : 0.0)\n\n            // Reset visibility attribute for any previously highlighted attention arcs\n            svg.select(\"#attention\")\n                .selectAll(\"line[visibility='visible']\")\n                .attr(\"visibility\", null)\n\n            // Hide group containing attention arcs\n            svg.select(\"#attention\").attr(\"visibility\", \"hidden\");\n\n            // Set to visible appropriate attention arcs to be highlighted\n            if (isLeft) {\n                svg.select(\"#attention\").selectAll(\"line[left-token-index='\" + index + \"']\").attr(\"visibility\", \"visible\");\n            } else {\n                svg.select(\"#attention\").selectAll(\"line[right-token-index='\" + index + \"']\").attr(\"visibility\", \"visible\");\n            }\n\n            // Update color boxes superimposed over tokens\n            const id = isLeft ? \"right\" : \"left\";\n            const leftPos = isLeft ? MATRIX_WIDTH + BOXWIDTH : 0;\n            svg.select(\"#\" + id)\n                .selectAll(\".attentionBoxes\")\n                .selectAll(\"g\")\n                .attr(\"head-index\", (d, i) => i)\n                .selectAll(\"rect\")\n                .attr(\"x\", function () {\n                    const headIndex = +this.parentNode.getAttribute(\"head-index\");\n                    return leftPos + boxOffsets(headIndex);\n                })\n                .attr(\"y\", (d, i) => TEXT_TOP + i * BOXHEIGHT)\n                .attr(\"width\", BOXWIDTH / activeHeads())\n                .attr(\"height\", BOXHEIGHT)\n                .style(\"opacity\", function (d) {\n                    const headIndex = +this.parentNode.getAttribute(\"head-index\");\n                    if (config.headVis[headIndex])\n                        if (d) {\n                            return d[index];\n                        } else {\n                            return 0.0;\n                        }\n                    else\n                        return 0.0;\n                });\n        });\n\n        textContainer.on(\"mouseleave\", function () {\n\n            // Unhighlight selected token\n            d3.select(this).selectAll(\".background\")\n                .style(\"opacity\", 0.0);\n\n            // Reset visibility attributes for previously selected lines\n            svg.select(\"#attention\")\n                .selectAll(\"line[visibility='visible']\")\n                .attr(\"visibility\", null) ;\n            svg.select(\"#attention\").attr(\"visibility\", \"visible\");\n\n            // Reset highlights superimposed over tokens\n            svg.selectAll(\".attentionBoxes\")\n                .selectAll(\"g\")\n                .selectAll(\"rect\")\n                .style(\"opacity\", 0.0);\n        });\n    }\n\n    function renderAttention(svg, attention) {\n\n        // Remove previous dom elements\n        svg.select(\"#attention\").remove();\n\n        // Add new elements\n        svg.append(\"g\")\n            .attr(\"id\", \"attention\") // Container for all attention arcs\n            .selectAll(\".headAttention\")\n            .data(attention)\n            .enter()\n            .append(\"g\")\n            .classed(\"headAttention\", true) // Group attention arcs by head\n            .attr(\"head-index\", (d, i) => i)\n            .selectAll(\".tokenAttention\")\n            .data(d => d)\n            .enter()\n            .append(\"g\")\n            .classed(\"tokenAttention\", true) // Group attention arcs by left token\n            .attr(\"left-token-index\", (d, i) => i)\n            .selectAll(\"line\")\n            .data(d => d)\n            .enter()\n            .append(\"line\")\n            .attr(\"x1\", BOXWIDTH)\n            .attr(\"y1\", function () {\n                const leftTokenIndex = +this.parentNode.getAttribute(\"left-token-index\")\n                return TEXT_TOP + leftTokenIndex * BOXHEIGHT + (BOXHEIGHT / 2)\n            })\n            .attr(\"x2\", BOXWIDTH + MATRIX_WIDTH)\n            .attr(\"y2\", (d, rightTokenIndex) => TEXT_TOP + rightTokenIndex * BOXHEIGHT + (BOXHEIGHT / 2))\n            .attr(\"stroke-width\", 2)\n            .attr(\"stroke\", function () {\n                const headIndex = +this.parentNode.parentNode.getAttribute(\"head-index\");\n                return headColors(headIndex)\n            })\n            .attr(\"left-token-index\", function () {\n                return +this.parentNode.getAttribute(\"left-token-index\")\n            })\n            .attr(\"right-token-index\", (d, i) => i)\n        ;\n        updateAttention(svg)\n    }\n\n    function updateAttention(svg) {\n        svg.select(\"#attention\")\n            .selectAll(\"line\")\n            .attr(\"stroke-opacity\", function (d) {\n                const headIndex = +this.parentNode.parentNode.getAttribute(\"head-index\");\n                // If head is selected\n                if (config.headVis[headIndex]) {\n                    // Set opacity to attention weight divided by number of active heads\n                    return d / activeHeads()\n                } else {\n                    return 0.0;\n                }\n            })\n    }\n\n    function boxOffsets(i) {\n        const numHeadsAbove = config.headVis.reduce(\n            function (acc, val, cur) {\n                return val && cur < i ? acc + 1 : acc;\n            }, 0);\n        return numHeadsAbove * (BOXWIDTH / activeHeads());\n    }\n\n    function activeHeads() {\n        return config.headVis.reduce(function (acc, val) {\n            return val ? acc + 1 : acc;\n        }, 0);\n    }\n\n    function drawCheckboxes(top, svg) {\n        const checkboxContainer = svg.append(\"g\");\n        const checkbox = checkboxContainer.selectAll(\"rect\")\n            .data(config.headVis)\n            .enter()\n            .append(\"rect\")\n            .attr(\"fill\", (d, i) => headColors(i))\n            .attr(\"x\", (d, i) => i * CHECKBOX_SIZE)\n            .attr(\"y\", top)\n            .attr(\"width\", CHECKBOX_SIZE)\n            .attr(\"height\", CHECKBOX_SIZE);\n\n        function updateCheckboxes() {\n            checkboxContainer.selectAll(\"rect\")\n                .data(config.headVis)\n                .attr(\"fill\", (d, i) => d ? headColors(i): lighten(headColors(i)));\n        }\n\n        updateCheckboxes();\n\n        checkbox.on(\"click\", function (d, i) {\n            if (config.headVis[i] && activeHeads() === 1) return;\n            config.headVis[i] = !config.headVis[i];\n            updateCheckboxes();\n            updateAttention(svg);\n        });\n\n        checkbox.on(\"dblclick\", function (d, i) {\n            // If we double click on the only active head then reset\n            if (config.headVis[i] && activeHeads() === 1) {\n                config.headVis = new Array(config.nHeads).fill(true);\n            } else {\n                config.headVis = new Array(config.nHeads).fill(false);\n                config.headVis[i] = true;\n            }\n            updateCheckboxes();\n            updateAttention(svg);\n        });\n    }\n\n    function lighten(color) {\n        const c = d3.hsl(color);\n        const increment = (1 - c.l) * 0.6;\n        c.l += increment;\n        c.s -= increment;\n        return c;\n    }\n\n    function transpose(mat) {\n        return mat[0].map(function (col, i) {\n            return mat.map(function (row) {\n                return row[i];\n            });\n        });\n    }\n\n});",
      "text/plain": [
       "<IPython.core.display.Javascript object>"
      ]
     },
     "metadata": {},
     "output_type": "display_data"
    }
   ],
   "source": [
    "attention_scores(attention_weights_pretrain, k)"
   ]
  },
  {
   "cell_type": "markdown",
   "id": "statutory-meditation",
   "metadata": {},
   "source": [
    "# Finetune"
   ]
  },
  {
   "cell_type": "code",
   "execution_count": 7,
   "id": "amino-burner",
   "metadata": {},
   "outputs": [
    {
     "data": {
      "text/html": [
       "<script src=\"https://cdnjs.cloudflare.com/ajax/libs/require.js/2.3.6/require.min.js\"></script>"
      ],
      "text/plain": [
       "<IPython.core.display.HTML object>"
      ]
     },
     "metadata": {},
     "output_type": "display_data"
    },
    {
     "data": {
      "text/html": [
       "      \n",
       "        <div id='bertviz-651dd202c575406799ca073a08ef5e54'>\n",
       "            <span style=\"user-select:none\">\n",
       "                Layer: <select id=\"layer\"></select>\n",
       "                \n",
       "            </span>\n",
       "            <div id='vis'></div>\n",
       "        </div>\n",
       "    "
      ],
      "text/plain": [
       "<IPython.core.display.HTML object>"
      ]
     },
     "metadata": {},
     "output_type": "display_data"
    },
    {
     "data": {
      "application/javascript": "/**\n * @fileoverview Transformer Visualization D3 javascript code.\n *\n *\n *  Based on: https://github.com/tensorflow/tensor2tensor/blob/master/tensor2tensor/visualization/attention.js\n *\n * Change log:\n *\n * 12/19/18  Jesse Vig   Assorted cleanup. Changed orientation of attention matrices.\n * 12/29/20  Jesse Vig   Significant refactor.\n * 12/31/20  Jesse Vig   Support multiple visualizations in single notebook.\n * 02/06/21  Jesse Vig   Move require config from separate jupyter notebook step\n * 05/03/21  Jesse Vig   Adjust height of visualization dynamically\n * 07/25/21  Jesse Vig   Support layer filtering\n **/\n\nrequire.config({\n  paths: {\n      d3: '//cdnjs.cloudflare.com/ajax/libs/d3/5.7.0/d3.min',\n    jquery: '//ajax.googleapis.com/ajax/libs/jquery/2.0.0/jquery.min',\n  }\n});\n\nrequirejs(['jquery', 'd3'], function ($, d3) {\n\n    const params = {\"attention\": [{\"name\": null, \"attn\": [[[[0.16445937752723694, 0.12579870223999023, 0.1133345440030098, 0.15633031725883484, 0.20919007062911987, 0.11322496086359024, 0.11766202002763748], [0.16152320802211761, 0.14000782370567322, 0.1398523598909378, 0.14041535556316376, 0.13919208943843842, 0.13906262814998627, 0.13994649052619934], [0.1411072164773941, 0.14333412051200867, 0.14292435348033905, 0.14334851503372192, 0.14325562119483948, 0.14297249913215637, 0.14305762946605682], [0.17711158096790314, 0.13652077317237854, 0.13727137446403503, 0.137272909283638, 0.1386304348707199, 0.1365974098443985, 0.13659557700157166], [0.17797741293907166, 0.13661958277225494, 0.13598830997943878, 0.13632971048355103, 0.13927258551120758, 0.1371464729309082, 0.13666586577892303], [0.15614137053489685, 0.14076903462409973, 0.14039446413516998, 0.14061200618743896, 0.1409381926059723, 0.14022590219974518, 0.14091895520687103], [0.15094415843486786, 0.1412247121334076, 0.14123418927192688, 0.14132803678512573, 0.14243265986442566, 0.14137880504131317, 0.1414574384689331]], [[0.04643920436501503, 0.03959910571575165, 0.031600456684827805, 0.03310973942279816, 0.05844629928469658, 0.03954439237713814, 0.03240245208144188], [0.039766352623701096, 0.03439924493432045, 0.034392524510622025, 0.034459188580513, 0.034056250005960464, 0.034218546003103256, 0.034431859850883484], [0.0349244587123394, 0.03453252092003822, 0.03443722426891327, 0.034467242658138275, 0.034302908927202225, 0.0347064845263958, 0.03444622829556465], [0.036057598888874054, 0.034504521638154984, 0.03441145271062851, 0.03444594889879227, 0.03432873636484146, 0.034707941114902496, 0.03443336486816406], [0.04230942204594612, 0.034347303211688995, 0.034300368279218674, 0.0343492291867733, 0.034209031611680984, 0.03433912247419357, 0.03436385095119476], [0.04137994721531868, 0.034371599555015564, 0.034335121512413025, 0.03437613323330879, 0.033850301057100296, 0.034061115235090256, 0.03437604010105133], [0.03564491868019104, 0.034539464861154556, 0.034410227090120316, 0.03444889560341835, 0.03437260538339615, 0.03471061959862709, 0.034431684762239456]]]], \"left_text\": [\"P_99284\", \"D_948.0\", \"D_944.2\", \"M_POLYE\", \"P_272\", \"P_99254\", \"P_270\"], \"right_text\": [\"P_99284\", \"D_948.0\", \"D_944.2\", \"M_POLYE\", \"P_272\", \"P_99254\", \"P_270\"]}], \"default_filter\": \"0\", \"root_div_id\": \"bertviz-651dd202c575406799ca073a08ef5e54\", \"layer\": null, \"heads\": null, \"include_layers\": [0]}; // HACK: {\"attention\": [{\"name\": null, \"attn\": [[[[0.16445937752723694, 0.12579870223999023, 0.1133345440030098, 0.15633031725883484, 0.20919007062911987, 0.11322496086359024, 0.11766202002763748], [0.16152320802211761, 0.14000782370567322, 0.1398523598909378, 0.14041535556316376, 0.13919208943843842, 0.13906262814998627, 0.13994649052619934], [0.1411072164773941, 0.14333412051200867, 0.14292435348033905, 0.14334851503372192, 0.14325562119483948, 0.14297249913215637, 0.14305762946605682], [0.17711158096790314, 0.13652077317237854, 0.13727137446403503, 0.137272909283638, 0.1386304348707199, 0.1365974098443985, 0.13659557700157166], [0.17797741293907166, 0.13661958277225494, 0.13598830997943878, 0.13632971048355103, 0.13927258551120758, 0.1371464729309082, 0.13666586577892303], [0.15614137053489685, 0.14076903462409973, 0.14039446413516998, 0.14061200618743896, 0.1409381926059723, 0.14022590219974518, 0.14091895520687103], [0.15094415843486786, 0.1412247121334076, 0.14123418927192688, 0.14132803678512573, 0.14243265986442566, 0.14137880504131317, 0.1414574384689331]], [[0.04643920436501503, 0.03959910571575165, 0.031600456684827805, 0.03310973942279816, 0.05844629928469658, 0.03954439237713814, 0.03240245208144188], [0.039766352623701096, 0.03439924493432045, 0.034392524510622025, 0.034459188580513, 0.034056250005960464, 0.034218546003103256, 0.034431859850883484], [0.0349244587123394, 0.03453252092003822, 0.03443722426891327, 0.034467242658138275, 0.034302908927202225, 0.0347064845263958, 0.03444622829556465], [0.036057598888874054, 0.034504521638154984, 0.03441145271062851, 0.03444594889879227, 0.03432873636484146, 0.034707941114902496, 0.03443336486816406], [0.04230942204594612, 0.034347303211688995, 0.034300368279218674, 0.0343492291867733, 0.034209031611680984, 0.03433912247419357, 0.03436385095119476], [0.04137994721531868, 0.034371599555015564, 0.034335121512413025, 0.03437613323330879, 0.033850301057100296, 0.034061115235090256, 0.03437604010105133], [0.03564491868019104, 0.034539464861154556, 0.034410227090120316, 0.03444889560341835, 0.03437260538339615, 0.03471061959862709, 0.034431684762239456]]]], \"left_text\": [\"P_99284\", \"D_948.0\", \"D_944.2\", \"M_POLYE\", \"P_272\", \"P_99254\", \"P_270\"], \"right_text\": [\"P_99284\", \"D_948.0\", \"D_944.2\", \"M_POLYE\", \"P_272\", \"P_99254\", \"P_270\"]}], \"default_filter\": \"0\", \"root_div_id\": \"bertviz-651dd202c575406799ca073a08ef5e54\", \"layer\": null, \"heads\": null, \"include_layers\": [0]} is a template marker that is replaced by actual params.\n    const TEXT_SIZE = 15;\n    const BOXWIDTH = 110;\n    const BOXHEIGHT = 22.5;\n    const MATRIX_WIDTH = 115;\n    const CHECKBOX_SIZE = 20;\n    const TEXT_TOP = 30;\n\n    console.log(\"d3 version\", d3.version)\n    let headColors;\n    try {\n        headColors = d3.scaleOrdinal(d3.schemeCategory10);\n    } catch (err) {\n        console.log('Older d3 version')\n        headColors = d3.scale.category10();\n    }\n    let config = {};\n    initialize();\n    renderVis();\n\n    function initialize() {\n        config.attention = params['attention'];\n        config.filter = params['default_filter'];\n        config.rootDivId = params['root_div_id'];\n        config.nLayers = config.attention[config.filter]['attn'].length;\n        config.nHeads = config.attention[config.filter]['attn'][0].length;\n        config.layers = params['include_layers']\n\n        if (params['heads']) {\n            config.headVis = new Array(config.nHeads).fill(false);\n            params['heads'].forEach(x => config.headVis[x] = true);\n        } else {\n            config.headVis = new Array(config.nHeads).fill(true);\n        }\n        config.initialTextLength = config.attention[config.filter].right_text.length;\n        config.layer_seq = (params['layer'] == null ? 0 : config.layers.findIndex(layer => params['layer'] === layer));\n        config.layer = config.layers[config.layer_seq]\n\n        let layerEl = $(`#${config.rootDivId} #layer`);\n        for (const layer of config.layers) {\n            layerEl.append($(\"<option />\").val(layer).text(layer));\n        }\n        layerEl.val(config.layer).change();\n        layerEl.on('change', function (e) {\n            config.layer = +e.currentTarget.value;\n            config.layer_seq = config.layers.findIndex(layer => config.layer === layer);\n            renderVis();\n        });\n\n        $(`#${config.rootDivId} #filter`).on('change', function (e) {\n            config.filter = e.currentTarget.value;\n            renderVis();\n        });\n    }\n\n    function renderVis() {\n\n        // Load parameters\n        const attnData = config.attention[config.filter];\n        const leftText = attnData.left_text;\n        const rightText = attnData.right_text;\n\n        // Select attention for given layer\n        const layerAttention = attnData.attn[config.layer_seq];\n\n        // Clear vis\n        $(`#${config.rootDivId} #vis`).empty();\n\n        // Determine size of visualization\n        const height = Math.max(leftText.length, rightText.length) * BOXHEIGHT + TEXT_TOP;\n        const svg = d3.select(`#${config.rootDivId} #vis`)\n            .append('svg')\n            .attr(\"width\", \"100%\")\n            .attr(\"height\", height + \"px\");\n\n        // Display tokens on left and right side of visualization\n        renderText(svg, leftText, true, layerAttention, 0);\n        renderText(svg, rightText, false, layerAttention, MATRIX_WIDTH + BOXWIDTH);\n\n        // Render attention arcs\n        renderAttention(svg, layerAttention);\n\n        // Draw squares at top of visualization, one for each head\n        drawCheckboxes(0, svg, layerAttention);\n    }\n\n    function renderText(svg, text, isLeft, attention, leftPos) {\n\n        const textContainer = svg.append(\"svg:g\")\n            .attr(\"id\", isLeft ? \"left\" : \"right\");\n\n        // Add attention highlights superimposed over words\n        textContainer.append(\"g\")\n            .classed(\"attentionBoxes\", true)\n            .selectAll(\"g\")\n            .data(attention)\n            .enter()\n            .append(\"g\")\n            .attr(\"head-index\", (d, i) => i)\n            .selectAll(\"rect\")\n            .data(d => isLeft ? d : transpose(d)) // if right text, transpose attention to get right-to-left weights\n            .enter()\n            .append(\"rect\")\n            .attr(\"x\", function () {\n                var headIndex = +this.parentNode.getAttribute(\"head-index\");\n                return leftPos + boxOffsets(headIndex);\n            })\n            .attr(\"y\", (+1) * BOXHEIGHT)\n            .attr(\"width\", BOXWIDTH / activeHeads())\n            .attr(\"height\", BOXHEIGHT)\n            .attr(\"fill\", function () {\n                return headColors(+this.parentNode.getAttribute(\"head-index\"))\n            })\n            .style(\"opacity\", 0.0);\n\n        const tokenContainer = textContainer.append(\"g\").selectAll(\"g\")\n            .data(text)\n            .enter()\n            .append(\"g\");\n\n        // Add gray background that appears when hovering over text\n        tokenContainer.append(\"rect\")\n            .classed(\"background\", true)\n            .style(\"opacity\", 0.0)\n            .attr(\"fill\", \"lightgray\")\n            .attr(\"x\", leftPos)\n            .attr(\"y\", (d, i) => TEXT_TOP + i * BOXHEIGHT)\n            .attr(\"width\", BOXWIDTH)\n            .attr(\"height\", BOXHEIGHT);\n\n        // Add token text\n        const textEl = tokenContainer.append(\"text\")\n            .text(d => d)\n            .attr(\"font-size\", TEXT_SIZE + \"px\")\n            .style(\"cursor\", \"default\")\n            .style(\"-webkit-user-select\", \"none\")\n            .attr(\"x\", leftPos)\n            .attr(\"y\", (d, i) => TEXT_TOP + i * BOXHEIGHT);\n\n        if (isLeft) {\n            textEl.style(\"text-anchor\", \"end\")\n                .attr(\"dx\", BOXWIDTH - 0.5 * TEXT_SIZE)\n                .attr(\"dy\", TEXT_SIZE);\n        } else {\n            textEl.style(\"text-anchor\", \"start\")\n                .attr(\"dx\", +0.5 * TEXT_SIZE)\n                .attr(\"dy\", TEXT_SIZE);\n        }\n\n        tokenContainer.on(\"mouseover\", function (d, index) {\n\n            // Show gray background for moused-over token\n            textContainer.selectAll(\".background\")\n                .style(\"opacity\", (d, i) => i === index ? 1.0 : 0.0)\n\n            // Reset visibility attribute for any previously highlighted attention arcs\n            svg.select(\"#attention\")\n                .selectAll(\"line[visibility='visible']\")\n                .attr(\"visibility\", null)\n\n            // Hide group containing attention arcs\n            svg.select(\"#attention\").attr(\"visibility\", \"hidden\");\n\n            // Set to visible appropriate attention arcs to be highlighted\n            if (isLeft) {\n                svg.select(\"#attention\").selectAll(\"line[left-token-index='\" + index + \"']\").attr(\"visibility\", \"visible\");\n            } else {\n                svg.select(\"#attention\").selectAll(\"line[right-token-index='\" + index + \"']\").attr(\"visibility\", \"visible\");\n            }\n\n            // Update color boxes superimposed over tokens\n            const id = isLeft ? \"right\" : \"left\";\n            const leftPos = isLeft ? MATRIX_WIDTH + BOXWIDTH : 0;\n            svg.select(\"#\" + id)\n                .selectAll(\".attentionBoxes\")\n                .selectAll(\"g\")\n                .attr(\"head-index\", (d, i) => i)\n                .selectAll(\"rect\")\n                .attr(\"x\", function () {\n                    const headIndex = +this.parentNode.getAttribute(\"head-index\");\n                    return leftPos + boxOffsets(headIndex);\n                })\n                .attr(\"y\", (d, i) => TEXT_TOP + i * BOXHEIGHT)\n                .attr(\"width\", BOXWIDTH / activeHeads())\n                .attr(\"height\", BOXHEIGHT)\n                .style(\"opacity\", function (d) {\n                    const headIndex = +this.parentNode.getAttribute(\"head-index\");\n                    if (config.headVis[headIndex])\n                        if (d) {\n                            return d[index];\n                        } else {\n                            return 0.0;\n                        }\n                    else\n                        return 0.0;\n                });\n        });\n\n        textContainer.on(\"mouseleave\", function () {\n\n            // Unhighlight selected token\n            d3.select(this).selectAll(\".background\")\n                .style(\"opacity\", 0.0);\n\n            // Reset visibility attributes for previously selected lines\n            svg.select(\"#attention\")\n                .selectAll(\"line[visibility='visible']\")\n                .attr(\"visibility\", null) ;\n            svg.select(\"#attention\").attr(\"visibility\", \"visible\");\n\n            // Reset highlights superimposed over tokens\n            svg.selectAll(\".attentionBoxes\")\n                .selectAll(\"g\")\n                .selectAll(\"rect\")\n                .style(\"opacity\", 0.0);\n        });\n    }\n\n    function renderAttention(svg, attention) {\n\n        // Remove previous dom elements\n        svg.select(\"#attention\").remove();\n\n        // Add new elements\n        svg.append(\"g\")\n            .attr(\"id\", \"attention\") // Container for all attention arcs\n            .selectAll(\".headAttention\")\n            .data(attention)\n            .enter()\n            .append(\"g\")\n            .classed(\"headAttention\", true) // Group attention arcs by head\n            .attr(\"head-index\", (d, i) => i)\n            .selectAll(\".tokenAttention\")\n            .data(d => d)\n            .enter()\n            .append(\"g\")\n            .classed(\"tokenAttention\", true) // Group attention arcs by left token\n            .attr(\"left-token-index\", (d, i) => i)\n            .selectAll(\"line\")\n            .data(d => d)\n            .enter()\n            .append(\"line\")\n            .attr(\"x1\", BOXWIDTH)\n            .attr(\"y1\", function () {\n                const leftTokenIndex = +this.parentNode.getAttribute(\"left-token-index\")\n                return TEXT_TOP + leftTokenIndex * BOXHEIGHT + (BOXHEIGHT / 2)\n            })\n            .attr(\"x2\", BOXWIDTH + MATRIX_WIDTH)\n            .attr(\"y2\", (d, rightTokenIndex) => TEXT_TOP + rightTokenIndex * BOXHEIGHT + (BOXHEIGHT / 2))\n            .attr(\"stroke-width\", 2)\n            .attr(\"stroke\", function () {\n                const headIndex = +this.parentNode.parentNode.getAttribute(\"head-index\");\n                return headColors(headIndex)\n            })\n            .attr(\"left-token-index\", function () {\n                return +this.parentNode.getAttribute(\"left-token-index\")\n            })\n            .attr(\"right-token-index\", (d, i) => i)\n        ;\n        updateAttention(svg)\n    }\n\n    function updateAttention(svg) {\n        svg.select(\"#attention\")\n            .selectAll(\"line\")\n            .attr(\"stroke-opacity\", function (d) {\n                const headIndex = +this.parentNode.parentNode.getAttribute(\"head-index\");\n                // If head is selected\n                if (config.headVis[headIndex]) {\n                    // Set opacity to attention weight divided by number of active heads\n                    return d / activeHeads()\n                } else {\n                    return 0.0;\n                }\n            })\n    }\n\n    function boxOffsets(i) {\n        const numHeadsAbove = config.headVis.reduce(\n            function (acc, val, cur) {\n                return val && cur < i ? acc + 1 : acc;\n            }, 0);\n        return numHeadsAbove * (BOXWIDTH / activeHeads());\n    }\n\n    function activeHeads() {\n        return config.headVis.reduce(function (acc, val) {\n            return val ? acc + 1 : acc;\n        }, 0);\n    }\n\n    function drawCheckboxes(top, svg) {\n        const checkboxContainer = svg.append(\"g\");\n        const checkbox = checkboxContainer.selectAll(\"rect\")\n            .data(config.headVis)\n            .enter()\n            .append(\"rect\")\n            .attr(\"fill\", (d, i) => headColors(i))\n            .attr(\"x\", (d, i) => i * CHECKBOX_SIZE)\n            .attr(\"y\", top)\n            .attr(\"width\", CHECKBOX_SIZE)\n            .attr(\"height\", CHECKBOX_SIZE);\n\n        function updateCheckboxes() {\n            checkboxContainer.selectAll(\"rect\")\n                .data(config.headVis)\n                .attr(\"fill\", (d, i) => d ? headColors(i): lighten(headColors(i)));\n        }\n\n        updateCheckboxes();\n\n        checkbox.on(\"click\", function (d, i) {\n            if (config.headVis[i] && activeHeads() === 1) return;\n            config.headVis[i] = !config.headVis[i];\n            updateCheckboxes();\n            updateAttention(svg);\n        });\n\n        checkbox.on(\"dblclick\", function (d, i) {\n            // If we double click on the only active head then reset\n            if (config.headVis[i] && activeHeads() === 1) {\n                config.headVis = new Array(config.nHeads).fill(true);\n            } else {\n                config.headVis = new Array(config.nHeads).fill(false);\n                config.headVis[i] = true;\n            }\n            updateCheckboxes();\n            updateAttention(svg);\n        });\n    }\n\n    function lighten(color) {\n        const c = d3.hsl(color);\n        const increment = (1 - c.l) * 0.6;\n        c.l += increment;\n        c.s -= increment;\n        return c;\n    }\n\n    function transpose(mat) {\n        return mat[0].map(function (col, i) {\n            return mat.map(function (row) {\n                return row[i];\n            });\n        });\n    }\n\n});",
      "text/plain": [
       "<IPython.core.display.Javascript object>"
      ]
     },
     "metadata": {},
     "output_type": "display_data"
    }
   ],
   "source": [
    "attention_scores(attention_weights_finetune, k)"
   ]
  },
  {
   "cell_type": "code",
   "execution_count": null,
   "id": "personalized-intermediate",
   "metadata": {},
   "outputs": [],
   "source": []
  }
 ],
 "metadata": {
  "kernelspec": {
   "display_name": "Python 3",
   "language": "python",
   "name": "python3"
  },
  "language_info": {
   "codemirror_mode": {
    "name": "ipython",
    "version": 3
   },
   "file_extension": ".py",
   "mimetype": "text/x-python",
   "name": "python",
   "nbconvert_exporter": "python",
   "pygments_lexer": "ipython3",
   "version": "3.7.11"
  }
 },
 "nbformat": 4,
 "nbformat_minor": 5
}
