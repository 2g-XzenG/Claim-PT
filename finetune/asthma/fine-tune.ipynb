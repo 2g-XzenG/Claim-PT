{
 "cells": [
  {
   "cell_type": "code",
   "execution_count": 1,
   "id": "wicked-finder",
   "metadata": {},
   "outputs": [
    {
     "name": "stdout",
     "output_type": "stream",
     "text": [
      "time: 205 µs\n"
     ]
    }
   ],
   "source": [
    "%load_ext autotime"
   ]
  },
  {
   "cell_type": "code",
   "execution_count": 2,
   "id": "random-fluid",
   "metadata": {},
   "outputs": [
    {
     "name": "stdout",
     "output_type": "stream",
     "text": [
      "time: 780 ms\n"
     ]
    }
   ],
   "source": [
    "import numpy as np\n",
    "import _pickle as pickle\n",
    "import pandas as pd"
   ]
  },
  {
   "cell_type": "code",
   "execution_count": 3,
   "id": "diverse-vegetation",
   "metadata": {},
   "outputs": [
    {
     "name": "stdout",
     "output_type": "stream",
     "text": [
      "==========LOADING DATA==========\n",
      "time: 185 ms\n"
     ]
    }
   ],
   "source": [
    "print(\"==========LOADING DATA==========\")\n",
    "age_seq = pickle.load(open(\"../data/new_age_seq\",\"rb\"))\n",
    "sex_seq = pickle.load(open(\"../data/new_sex_seq\",\"rb\"))\n",
    "        \n",
    "util_seq = pickle.load(open(\"../data/new_util_seq\",\"rb\"))\n",
    "code_seq = pickle.load(open(\"../data/new_code_seq\",\"rb\"))\n",
    "date_seq = pickle.load(open(\"../data/new_date_seq\",\"rb\"))\n",
    "label_seq = pickle.load(open(\"../data/new_label_seq\",\"rb\"))"
   ]
  },
  {
   "cell_type": "code",
   "execution_count": 4,
   "id": "disabled-favor",
   "metadata": {},
   "outputs": [
    {
     "name": "stdout",
     "output_type": "stream",
     "text": [
      "time: 3.28 s\n"
     ]
    }
   ],
   "source": [
    "import numpy as np\n",
    "import tensorflow as tf\n",
    "from tensorflow.keras import layers"
   ]
  },
  {
   "cell_type": "code",
   "execution_count": 5,
   "id": "hollow-environment",
   "metadata": {},
   "outputs": [
    {
     "name": "stdout",
     "output_type": "stream",
     "text": [
      "time: 5.82 ms\n"
     ]
    }
   ],
   "source": [
    "class DataGenerator(tf.keras.utils.Sequence):\n",
    "    def __init__(self, seqs, vocab_sizes, list_IDs, max_visit, max_code, batch_size=100, shuffle=True):\n",
    "        self.seqs = seqs\n",
    "        self.code_vocab = vocab_sizes[0]\n",
    "        self.cat_vocab = vocab_sizes[1]\n",
    "        self.list_IDs = list_IDs\n",
    "        self.max_visit = max_visit\n",
    "        self.max_code = max_code\n",
    "        self.batch_size = batch_size\n",
    "        self.shuffle = shuffle\n",
    "        self.on_epoch_end()\n",
    "\n",
    "    def __len__(self):\n",
    "        'Denotes the number of batches per epoch'\n",
    "        return int(np.ceil(len(self.list_IDs) / self.batch_size))\n",
    "\n",
    "    def __getitem__(self, index):\n",
    "        'Generate one batch of data'\n",
    "        indexes = self.indexes[index*self.batch_size:(index+1)*self.batch_size]\n",
    "        list_IDs_temp = [self.list_IDs[k] for k in indexes]\n",
    "        X, y = self.__data_generation(list_IDs_temp)\n",
    "        return X, y\n",
    "\n",
    "    def on_epoch_end(self):\n",
    "        'Updates indexes after each epoch' \n",
    "        self.indexes = np.arange(len(self.list_IDs))\n",
    "        if self.shuffle == True:\n",
    "            np.random.shuffle(self.indexes)\n",
    "\n",
    "    def __data_generation(self, list_IDs_temp):\n",
    "        'Generates data containing batch_size samples' \n",
    "        demo_feature, code_feature, util_feature, date_feature, cls_feature = self.seqs\n",
    "        batch_demo, batch_code, batch_util, batch_date, batch_cls = [], [], [], [], []\n",
    "        for i, ID in enumerate(list_IDs_temp):\n",
    "            batch_demo.append(demo_feature[ID])\n",
    "            batch_code.append(code_feature[ID])\n",
    "            batch_util.append(util_feature[ID])\n",
    "            batch_date.append(date_feature[ID])\n",
    "            batch_cls.append(cls_feature[ID])\n",
    "        \n",
    "        batch_demo_feature = np.array(batch_demo)\n",
    "        batch_code_feature = self.code_padding(batch_code)\n",
    "        batch_util_feature = self.date_padding(batch_util)\n",
    "        batch_date_feature = self.date_padding(batch_date)\n",
    "        batch_cls = np.array(batch_cls)\n",
    "        \n",
    "        dic = (\n",
    "            {\n",
    "                'demo_feature': batch_demo_feature,\n",
    "                'code_feature': batch_code_feature,\n",
    "                'util_feature': batch_util_feature,\n",
    "                'date_feature': batch_date_feature,\n",
    "            },\n",
    "            {\n",
    "                'cls_label': batch_cls\n",
    "            })\n",
    "        return dic\n",
    "    \n",
    "    def date_padding(self, seq):\n",
    "        seq = [x[:-1] for x in seq]\n",
    "        \n",
    "        pad_seq = np.zeros((len(seq), self.max_visit))\n",
    "        for i, p in enumerate(seq):\n",
    "            pad_seq[i][:len(p)] = p[:self.max_visit]\n",
    "        return pad_seq\n",
    "    \n",
    "    def code_padding(self, seq):\n",
    "        seq = [x[:-1] for x in seq]\n",
    "        \n",
    "        X = np.zeros((len(seq), self.max_visit, self.max_code))\n",
    "        for i, p in enumerate(seq):\n",
    "            if len(p) > self.max_visit: \n",
    "                p = p[:self.max_visit]\n",
    "            for j, claim in enumerate(p):\n",
    "                claim = claim[:self.max_code]\n",
    "                X[i][j][:len(claim)] = claim\n",
    "        return X\n"
   ]
  },
  {
   "cell_type": "code",
   "execution_count": 6,
   "id": "quick-webster",
   "metadata": {},
   "outputs": [
    {
     "name": "stdout",
     "output_type": "stream",
     "text": [
      "time: 18 ms\n"
     ]
    }
   ],
   "source": [
    "def create_code_mask(code_seq):\n",
    "    code_mask = tf.cast(tf.math.not_equal(code_seq, 0), tf.float32)\n",
    "    return code_mask[:,:,:,tf.newaxis]\n",
    "\n",
    "def create_visit_mask(seq):\n",
    "    visit_mask = tf.cast(tf.math.not_equal(seq, 0), tf.float32)\n",
    "    return visit_mask[:,:]\n",
    "\n",
    "def scaled_dot_product_attention(Q, K, V, Q_masks, K_masks):\n",
    "    d_k = K.get_shape().as_list()[-1] # d_model/h\n",
    "\n",
    "    outputs = tf.matmul(Q, tf.transpose(K, [0, 2, 1]))  # (h*N, T_q, T_k)\n",
    "    outputs /= d_k ** 0.5\n",
    "\n",
    "    padding_num = -1e+7\n",
    "    K_masks = tf.expand_dims(K_masks, 1) # (h*N, 1, T_k)\n",
    "    K_masks = tf.tile(K_masks, [1, tf.shape(Q)[1], 1]) # (h*N, T_q, T_k)\n",
    "    paddings = tf.ones_like(outputs) * padding_num\n",
    "    outputs = tf.where(tf.equal(K_masks, 0), paddings, outputs)  # (h*N, T_q, T_k)\n",
    "\n",
    "    outputs = tf.nn.softmax(outputs)\n",
    "    Q_masks = tf.expand_dims(Q_masks, -1) # (h*N, T_q, 1)\n",
    "    Q_masks = tf.tile(Q_masks, [1, 1, tf.shape(K)[1]]) # (h*N, T_q, T_k)\n",
    "    outputs = outputs * tf.cast(Q_masks, dtype=tf.float32)\n",
    "\n",
    "    return tf.matmul(outputs, V) # [h*N, T_q, d_model/h]\n",
    "\n",
    "class multihead_attention(tf.keras.layers.Layer):\n",
    "    def __init__(self, d_model, num_heads, name=\"multihead_attention\"):\n",
    "        super(multihead_attention, self).__init__(name=name)\n",
    "        self.num_heads = num_heads\n",
    "        self.d_model = d_model\n",
    "\n",
    "        assert d_model % self.num_heads == 0\n",
    "\n",
    "        self.query_dense = layers.Dense(units=d_model, use_bias=False)\n",
    "        self.key_dense = layers.Dense(units=d_model, use_bias=False)\n",
    "        self.value_dense = layers.Dense(units=d_model, use_bias=False)\n",
    "        self.add =layers.Add()\n",
    "        self.norm = layers.LayerNormalization()\n",
    "    \n",
    "    def call(self, queries, keys, values, query_masks, key_masks):\n",
    "        Q = self.query_dense(queries)\n",
    "        K = self.key_dense(keys)\n",
    "        V = self.value_dense(values)\n",
    "\n",
    "        # Split and concat\n",
    "        Q_ = tf.concat(tf.split(Q, self.num_heads, axis=2), axis=0) # (h*N, T_q, d_model/h)\n",
    "        K_ = tf.concat(tf.split(K, self.num_heads, axis=2), axis=0) # (h*N, T_k, d_model/h)\n",
    "        V_ = tf.concat(tf.split(V, self.num_heads, axis=2), axis=0) # (h*N, T_v, d_model/h)\n",
    "        query_masks = tf.tile(query_masks, [self.num_heads, 1]) # (h*N, T_q)\n",
    "        key_masks = tf.tile(key_masks, [self.num_heads, 1]) # (h*N, T_k)\n",
    "\n",
    "        # Attention\n",
    "        outputs = scaled_dot_product_attention(Q_, K_, V_, query_masks, key_masks) # (h*N, T_q, d_model/h)\n",
    "\n",
    "        # Restore shape\n",
    "        outputs = tf.concat(tf.split(outputs, self.num_heads, axis=0), axis=2) # (N, T_q, d_model)\n",
    "\n",
    "        # Residual connection\n",
    "        outputs = self.add([queries, outputs])\n",
    "        outputs = self.norm(outputs)\n",
    "        \n",
    "        return outputs\n",
    "\n",
    "class ffn(tf.keras.layers.Layer):\n",
    "    def __init__(self, d_model, ffn_dim, name=\"ffn\"):\n",
    "        super(ffn, self).__init__(name=name)\n",
    "        self.ffn_dim = ffn_dim\n",
    "        self.dense1 = layers.Dense(units=ffn_dim, activation=tf.nn.relu, use_bias=False)\n",
    "        self.dense2 = layers.Dense(units=d_model, use_bias=False)\n",
    "        self.add =layers.Add()\n",
    "        self.norm = layers.LayerNormalization()\n",
    "    \n",
    "    def call(self, inputs):\n",
    "        outputs = self.dense1(inputs)\n",
    "        outputs = self.dense2(outputs)\n",
    "        outputs = self.add([inputs, outputs])\n",
    "        outputs = self.norm(outputs)\n",
    "        return outputs\n",
    "\n",
    "def cat_recall(y_true, y_pred):\n",
    "    mask_value = tf.cast(tf.not_equal(tf.reduce_sum(y_true,axis=-1), 0), tf.float32)\n",
    "    true_positives = tf.cast(tf.reduce_sum(tf.multiply(tf.round(y_pred), y_true), axis=-1), tf.float32)\n",
    "    possible_positives = tf.cast(tf.reduce_sum(y_true, axis=-1), tf.float32)\n",
    "    values = true_positives / (possible_positives + 1e-7)\n",
    "    return tf.reduce_sum(values)/tf.reduce_sum(mask_value)\n",
    "\n",
    "def cat_loss_fun(y_true, y_pred):\n",
    "    loss = tf.cast(tf.keras.losses.BinaryCrossentropy(reduction='none')(y_true, y_pred), tf.float32)\n",
    "    mask = tf.cast(tf.not_equal(tf.reduce_sum(y_true,axis=-1), 0), tf.float32)\n",
    "    loss = tf.multiply(loss, mask)\n",
    "    # return tf.reduce_sum(loss)/tf.reduce_sum(mask)\n",
    "    return loss\n",
    "\n",
    "def model(\n",
    "    max_visit,\n",
    "    max_code,\n",
    "    max_demo,\n",
    "    \n",
    "    demo_vocab,\n",
    "    code_vocab,\n",
    "    date_vocab,\n",
    "    util_vocab,\n",
    "    cat_vocab,\n",
    "\n",
    "    patient_dim,\n",
    "    vocab_dim=100,\n",
    "    model_dim=100,\n",
    "    ffn_dim=100,\n",
    "    num_heads=2,\n",
    "    num_translayer=1,\n",
    "    \n",
    "    model_name=\"TransF\"):\n",
    "    \n",
    "    demo = layers.Input(shape=(max_demo, ), name=\"demo_feature\")  # max_demo = 2, age&sex\n",
    "    code_seq = layers.Input(shape=(max_visit, max_code), name=\"code_feature\") \n",
    "    util_seq = layers.Input(shape=(max_visit), name=\"util_feature\")\n",
    "    date_seq = layers.Input(shape=(max_visit), name=\"date_feature\")\n",
    "\n",
    "    inputs = [demo, code_seq, util_seq, date_seq]\n",
    "    \n",
    "    # demo embedding\n",
    "    demo_emb = layers.Embedding(input_dim=demo_vocab, output_dim=vocab_dim, mask_zero=True, name='demo_embedding')(demo)\n",
    "    demo_emb = layers.Lambda(lambda x: tf.keras.backend.sum(x, axis=1))(demo_emb)     \n",
    "\n",
    "    # code sequence\n",
    "    code_mask = layers.Lambda(create_code_mask)(code_seq)\n",
    "    code_emb = layers.Embedding(input_dim=code_vocab, \n",
    "                                output_dim=vocab_dim, \n",
    "                                name='code_embed')(code_seq)\n",
    "    code_emb = layers.Multiply()([code_emb, code_mask])\n",
    "    code_emb = tf.reduce_sum(code_emb, axis=2)     \n",
    "\n",
    "    \n",
    "    # visit mask\n",
    "    visit_mask = layers.Lambda(create_visit_mask)(date_seq)\n",
    "    \n",
    "    # util sequence   \n",
    "    util_emb = layers.Embedding(input_dim=util_vocab, output_dim=vocab_dim, mask_zero=True, name='util_embedding')(util_seq)\n",
    "    util_emb = layers.Multiply()([util_emb, visit_mask[:,:,tf.newaxis]])\n",
    "    \n",
    "    # date sequence    \n",
    "    date_emb = layers.Embedding(input_dim=date_vocab, output_dim=vocab_dim, mask_zero=True, name='date_embedding')(date_seq)\n",
    "    date_emb = layers.Multiply()([date_emb, visit_mask[:,:,tf.newaxis]])\n",
    "\n",
    "    # visit sequence\n",
    "    visit_emb = layers.Add()([code_emb, date_emb, util_emb]) \n",
    "\n",
    "    demo_emb = tf.expand_dims(demo_emb, 1) # (N, 1, emb_size)\n",
    "    demo_mask = tf.ones_like(tf.reduce_sum(demo_emb, axis=2), tf.float32) # (N, 1)\n",
    "    \n",
    "    for trans_layer in range(num_translayer):\n",
    "        multihead = multihead_attention(model_dim, num_heads, name=\"multihead_attention-\"+str(trans_layer))(\n",
    "            queries=tf.concat([demo_emb, visit_emb], 1),                         \n",
    "            keys=tf.concat([demo_emb, visit_emb], 1),\n",
    "            values=tf.concat([demo_emb, visit_emb], 1),\n",
    "            query_masks=tf.concat([demo_mask, visit_mask], 1),\n",
    "            key_masks=tf.concat([demo_mask, visit_mask], 1)\n",
    "        )\n",
    "        \n",
    "        visit_emb = ffn(model_dim, ffn_dim, name=\"ffn-\"+str(trans_layer))(multihead) # (N, max_visit, emb_size)\n",
    "            \n",
    "        demo_emb = visit_emb[:, :1, :] # (N, 1, emb_size)\n",
    "        visit_emb = visit_emb[:, 1:max_visit+1, :] # (N, max_visit, emb_size)\n",
    "        \n",
    "    patient_embedding = layers.Dense(patient_dim, activation=None, name=\"patient_embedding\")(tf.squeeze(demo_emb, [1]))\n",
    "    \n",
    "   \n",
    "    cls_label = layers.Dense(units=model_dim, activation=tf.nn.relu)(patient_embedding)\n",
    "    cls_label = layers.Dense(units=1, activation=tf.nn.sigmoid, name=\"cls_label\")(cls_label)\n",
    "        \n",
    " \n",
    "    outputs = [cls_label]\n",
    "\n",
    "    return tf.keras.Model(inputs=inputs, outputs=outputs, name=model_name)\n",
    "\n"
   ]
  },
  {
   "cell_type": "code",
   "execution_count": 7,
   "id": "dependent-movie",
   "metadata": {},
   "outputs": [
    {
     "name": "stdout",
     "output_type": "stream",
     "text": [
      "time: 4.81 ms\n"
     ]
    }
   ],
   "source": [
    "def process_code(seq, vocab2int):\n",
    "    unseen = []\n",
    "    new_seq = []\n",
    "    for p in seq:\n",
    "        new_p = []\n",
    "        for v in p:\n",
    "            new_v = []\n",
    "            for c in v:\n",
    "                if c not in vocab2int: \n",
    "                    unseen.append(c)\n",
    "                    continue\n",
    "                    # vocab2int[c] = len(vocab2int)\n",
    "                new_v.append(vocab2int[c])\n",
    "            new_p.append(new_v)\n",
    "        new_seq.append(new_p)\n",
    "        \n",
    "    print(\"UNSEEN VOCAB:\",len(set(unseen)), len(unseen))\n",
    "    return new_seq\n",
    "\n",
    "def process_util(seq, util2int):\n",
    "    new_seq = []\n",
    "    vocab2int = {\"PAD\":0,\"IP\":1,\"RX\":2,\"OP\":3}\n",
    "    for p in seq:\n",
    "        new_p = []\n",
    "        for v in p:\n",
    "            if \"IP\" in v:\n",
    "                new_v=1\n",
    "            elif \"RX\" in v:\n",
    "                new_v=2\n",
    "            else:\n",
    "                new_v=3\n",
    "            new_p.append(new_v)\n",
    "        new_seq.append(new_p)\n",
    "    return new_seq\n",
    "    \n",
    "def process_demo(age_seq, sex_seq, vocab2int):\n",
    "    new_seq = []\n",
    "    for age, sex in zip(age_seq, sex_seq):\n",
    "        p = []\n",
    "        assert age in vocab2int\n",
    "        assert sex in vocab2int\n",
    "        \n",
    "        p.append(vocab2int[age])\n",
    "        p.append(vocab2int[sex])\n",
    "        new_seq.append(p)\n",
    "    return np.array(new_seq)\n",
    "\n",
    "def get_cat(seq,code2cat):\n",
    "    new_seq = []\n",
    "    for p in seq:\n",
    "        new_p = []\n",
    "        for v in p:\n",
    "            new_v = []\n",
    "            for c in v:\n",
    "                new_c = code2cat[c]\n",
    "                new_v.append(new_c)\n",
    "            new_p.append(new_v)\n",
    "        new_seq.append(new_p)\n",
    "    return new_seq"
   ]
  },
  {
   "cell_type": "code",
   "execution_count": 8,
   "id": "ongoing-manufacturer",
   "metadata": {},
   "outputs": [
    {
     "name": "stdout",
     "output_type": "stream",
     "text": [
      "------LOADING DIC------\n",
      "time: 69.2 ms\n"
     ]
    }
   ],
   "source": [
    "print(\"------LOADING DIC------\")\n",
    "path = \"/Users/xxz005/Desktop/RAW_DATA/code2cat/\"\n",
    "\n",
    "diag2cat = pickle.load(open(path+\"diag2cat\",\"rb\"))\n",
    "proc2cat = pickle.load(open(path+\"proc2cat\",\"rb\"))\n",
    "drug2cat = pickle.load(open(path+\"drug2cat\",\"rb\"))\n",
    "\n",
    "code2cat = {**diag2cat, **proc2cat, **drug2cat}"
   ]
  },
  {
   "cell_type": "code",
   "execution_count": 9,
   "id": "wrong-warrior",
   "metadata": {},
   "outputs": [
    {
     "name": "stdout",
     "output_type": "stream",
     "text": [
      "time: 36.3 ms\n"
     ]
    }
   ],
   "source": [
    "code2int, util2int, demo2int, cat2int  = pickle.load(open(\"../../pretraining/model/vocabs/vocabs\",\"rb\"))"
   ]
  },
  {
   "cell_type": "code",
   "execution_count": 10,
   "id": "invalid-silicon",
   "metadata": {},
   "outputs": [
    {
     "name": "stdout",
     "output_type": "stream",
     "text": [
      "UNSEEN VOCAB: 3 4\n",
      "time: 120 ms\n"
     ]
    }
   ],
   "source": [
    "code_feature = process_code(code_seq, code2int)\n",
    "util_feature = process_util(util_seq, util2int)\n",
    "demo_feature = process_demo(age_seq, sex_seq, demo2int)\n",
    "date_feature = date_seq\n",
    "\n",
    "cls_feature = np.array(label_seq).reshape((-1,1))"
   ]
  },
  {
   "cell_type": "code",
   "execution_count": 11,
   "id": "adverse-arkansas",
   "metadata": {},
   "outputs": [
    {
     "name": "stdout",
     "output_type": "stream",
     "text": [
      "time: 1.92 ms\n"
     ]
    }
   ],
   "source": [
    "MAX_VISIT=30\n",
    "MAX_CODE=10\n",
    "MAX_DEMO=2\n",
    "PATIENT_DIM=100\n",
    "\n",
    "BATCH_SIZE = 500\n",
    "TRAIN_RATIO = 0.5\n",
    "DATA_SIZE = len(age_seq)\n",
    "EPOCHS = 20\n",
    "\n",
    "params = {\n",
    "    'seqs':[demo_feature, code_feature, util_feature, date_feature, cls_feature],\n",
    "    'vocab_sizes': [len(code2int), len(cat2int)],\n",
    "    'batch_size':100,\n",
    "    'max_visit':MAX_VISIT, \n",
    "    'max_code':MAX_CODE,\n",
    "}"
   ]
  },
  {
   "cell_type": "code",
   "execution_count": 12,
   "id": "sorted-wholesale",
   "metadata": {},
   "outputs": [
    {
     "name": "stdout",
     "output_type": "stream",
     "text": [
      "time: 933 ms\n"
     ]
    }
   ],
   "source": [
    "from sklearn.model_selection import train_test_split\n",
    "train_IDs, valid_IDs = train_test_split(range(DATA_SIZE), train_size=TRAIN_RATIO, random_state=42)\n",
    "train_generator = DataGenerator(list_IDs=train_IDs, shuffle=True, **params)\n",
    "valid_generator = DataGenerator(list_IDs=valid_IDs, shuffle=False, **params)"
   ]
  },
  {
   "cell_type": "markdown",
   "id": "separated-layout",
   "metadata": {},
   "source": [
    "# Pretrain"
   ]
  },
  {
   "cell_type": "code",
   "execution_count": 13,
   "id": "suspended-settlement",
   "metadata": {},
   "outputs": [
    {
     "name": "stdout",
     "output_type": "stream",
     "text": [
      "time: 393 µs\n"
     ]
    }
   ],
   "source": [
    "# model_path = \"../../pretraining/model/saveModel\"\n",
    "\n",
    "# model = tf.keras.models.load_model(model_path)"
   ]
  },
  {
   "cell_type": "code",
   "execution_count": 14,
   "id": "handy-impression",
   "metadata": {},
   "outputs": [
    {
     "name": "stderr",
     "output_type": "stream",
     "text": [
      "/usr/local/lib/python3.7/site-packages/tensorflow/python/keras/layers/core.py:1059: UserWarning: cpt is not loaded, but a Lambda layer uses it. It may cause errors.\n",
      "  , UserWarning)\n"
     ]
    },
    {
     "name": "stdout",
     "output_type": "stream",
     "text": [
      "time: 1.84 s\n"
     ]
    }
   ],
   "source": [
    "model_path = \"/Users/xxz005/Desktop/saveModel\"\n",
    "\n",
    "model = tf.keras.models.load_model(model_path)"
   ]
  },
  {
   "cell_type": "code",
   "execution_count": 15,
   "id": "involved-genetics",
   "metadata": {},
   "outputs": [
    {
     "name": "stdout",
     "output_type": "stream",
     "text": [
      "time: 8.37 ms\n"
     ]
    }
   ],
   "source": [
    "model_losses = {\n",
    "    \"cls_label\":tf.keras.losses.BinaryCrossentropy(),\n",
    "}\n",
    "\n",
    "model_metrics = {\n",
    "    \"cls_label\": tf.keras.metrics.AUC(),\n",
    "}"
   ]
  },
  {
   "cell_type": "code",
   "execution_count": 16,
   "id": "veterinary-chinese",
   "metadata": {},
   "outputs": [
    {
     "name": "stdout",
     "output_type": "stream",
     "text": [
      "time: 16.6 ms\n"
     ]
    }
   ],
   "source": [
    "opt = tf.keras.optimizers.Adam(learning_rate=0.0001)\n",
    "model.compile(optimizer=opt, loss=model_losses, metrics=model_metrics)\n",
    "# print(model.summary())"
   ]
  },
  {
   "cell_type": "code",
   "execution_count": 17,
   "id": "vanilla-karen",
   "metadata": {},
   "outputs": [
    {
     "name": "stdout",
     "output_type": "stream",
     "text": [
      "9/9 [==============================] - 1s 26ms/step - loss: 5.8961 - cls_label_loss: 5.8961 - cls_label_auc: 0.4489\n"
     ]
    },
    {
     "data": {
      "text/plain": [
       "[5.853375434875488, 5.853375434875488, 0.4493659734725952]"
      ]
     },
     "execution_count": 17,
     "metadata": {},
     "output_type": "execute_result"
    },
    {
     "name": "stdout",
     "output_type": "stream",
     "text": [
      "time: 946 ms\n"
     ]
    }
   ],
   "source": [
    "model.evaluate(valid_generator)"
   ]
  },
  {
   "cell_type": "code",
   "execution_count": 18,
   "id": "verbal-kingdom",
   "metadata": {},
   "outputs": [
    {
     "name": "stdout",
     "output_type": "stream",
     "text": [
      "Epoch 1/20\n",
      "WARNING:tensorflow:Gradients do not exist for variables ['code_label/kernel:0', 'code_label/bias:0', 'cat_label/kernel:0', 'cat_label/bias:0'] when minimizing the loss.\n",
      "WARNING:tensorflow:Gradients do not exist for variables ['code_label/kernel:0', 'code_label/bias:0', 'cat_label/kernel:0', 'cat_label/bias:0'] when minimizing the loss.\n",
      "9/9 - 3s - loss: 2.6438 - cls_label_loss: 2.6438 - cls_label_auc: 0.5739 - val_loss: 1.8408 - val_cls_label_loss: 1.8408 - val_cls_label_auc: 0.5634\n",
      "Epoch 2/20\n",
      "9/9 - 1s - loss: 1.1236 - cls_label_loss: 1.1236 - cls_label_auc: 0.6073 - val_loss: 0.7250 - val_cls_label_loss: 0.7250 - val_cls_label_auc: 0.5605\n",
      "Epoch 3/20\n",
      "9/9 - 1s - loss: 0.7922 - cls_label_loss: 0.7922 - cls_label_auc: 0.5777 - val_loss: 0.7698 - val_cls_label_loss: 0.7698 - val_cls_label_auc: 0.5885\n",
      "Epoch 4/20\n",
      "9/9 - 1s - loss: 0.6654 - cls_label_loss: 0.6654 - cls_label_auc: 0.6627 - val_loss: 0.6365 - val_cls_label_loss: 0.6365 - val_cls_label_auc: 0.6055\n",
      "Epoch 5/20\n",
      "9/9 - 1s - loss: 0.5701 - cls_label_loss: 0.5701 - cls_label_auc: 0.7252 - val_loss: 0.6634 - val_cls_label_loss: 0.6634 - val_cls_label_auc: 0.6159\n",
      "Epoch 6/20\n",
      "9/9 - 1s - loss: 0.5389 - cls_label_loss: 0.5389 - cls_label_auc: 0.7541 - val_loss: 0.6247 - val_cls_label_loss: 0.6247 - val_cls_label_auc: 0.6402\n",
      "Epoch 7/20\n",
      "9/9 - 1s - loss: 0.5063 - cls_label_loss: 0.5063 - cls_label_auc: 0.7928 - val_loss: 0.6179 - val_cls_label_loss: 0.6179 - val_cls_label_auc: 0.6594\n",
      "Epoch 8/20\n",
      "9/9 - 1s - loss: 0.4940 - cls_label_loss: 0.4940 - cls_label_auc: 0.8012 - val_loss: 0.6137 - val_cls_label_loss: 0.6137 - val_cls_label_auc: 0.6710\n",
      "Epoch 9/20\n",
      "9/9 - 1s - loss: 0.4807 - cls_label_loss: 0.4807 - cls_label_auc: 0.8176 - val_loss: 0.6009 - val_cls_label_loss: 0.6009 - val_cls_label_auc: 0.6736\n",
      "Epoch 10/20\n",
      "9/9 - 1s - loss: 0.4478 - cls_label_loss: 0.4478 - cls_label_auc: 0.8687 - val_loss: 0.5882 - val_cls_label_loss: 0.5882 - val_cls_label_auc: 0.6880\n",
      "Epoch 11/20\n",
      "9/9 - 1s - loss: 0.4346 - cls_label_loss: 0.4346 - cls_label_auc: 0.8817 - val_loss: 0.5889 - val_cls_label_loss: 0.5889 - val_cls_label_auc: 0.6959\n",
      "Epoch 12/20\n",
      "9/9 - 1s - loss: 0.4192 - cls_label_loss: 0.4192 - cls_label_auc: 0.8963 - val_loss: 0.5838 - val_cls_label_loss: 0.5838 - val_cls_label_auc: 0.7004\n",
      "Epoch 13/20\n",
      "9/9 - 1s - loss: 0.4034 - cls_label_loss: 0.4034 - cls_label_auc: 0.9113 - val_loss: 0.5802 - val_cls_label_loss: 0.5802 - val_cls_label_auc: 0.7077\n",
      "Epoch 14/20\n",
      "9/9 - 1s - loss: 0.3892 - cls_label_loss: 0.3892 - cls_label_auc: 0.9186 - val_loss: 0.5747 - val_cls_label_loss: 0.5747 - val_cls_label_auc: 0.7162\n",
      "Epoch 15/20\n",
      "9/9 - 1s - loss: 0.3736 - cls_label_loss: 0.3736 - cls_label_auc: 0.9294 - val_loss: 0.5760 - val_cls_label_loss: 0.5760 - val_cls_label_auc: 0.7186\n",
      "Epoch 16/20\n",
      "9/9 - 1s - loss: 0.3601 - cls_label_loss: 0.3601 - cls_label_auc: 0.9389 - val_loss: 0.5731 - val_cls_label_loss: 0.5731 - val_cls_label_auc: 0.7215\n",
      "Epoch 17/20\n",
      "9/9 - 1s - loss: 0.3471 - cls_label_loss: 0.3471 - cls_label_auc: 0.9431 - val_loss: 0.5776 - val_cls_label_loss: 0.5776 - val_cls_label_auc: 0.7272\n",
      "Epoch 18/20\n",
      "9/9 - 1s - loss: 0.3372 - cls_label_loss: 0.3372 - cls_label_auc: 0.9480 - val_loss: 0.5731 - val_cls_label_loss: 0.5731 - val_cls_label_auc: 0.7282\n",
      "Epoch 19/20\n",
      "9/9 - 1s - loss: 0.3290 - cls_label_loss: 0.3290 - cls_label_auc: 0.9498 - val_loss: 0.5812 - val_cls_label_loss: 0.5812 - val_cls_label_auc: 0.7331\n",
      "Epoch 20/20\n",
      "9/9 - 1s - loss: 0.3190 - cls_label_loss: 0.3190 - cls_label_auc: 0.9516 - val_loss: 0.5695 - val_cls_label_loss: 0.5695 - val_cls_label_auc: 0.7372\n",
      "time: 23.8 s\n"
     ]
    }
   ],
   "source": [
    "finetune_history = model.fit(\n",
    "    train_generator,\n",
    "    epochs=EPOCHS,\n",
    "    validation_data=valid_generator,\n",
    "    verbose=2,\n",
    ")"
   ]
  },
  {
   "cell_type": "code",
   "execution_count": null,
   "id": "conventional-makeup",
   "metadata": {},
   "outputs": [],
   "source": []
  },
  {
   "cell_type": "code",
   "execution_count": null,
   "id": "logical-opinion",
   "metadata": {},
   "outputs": [],
   "source": []
  },
  {
   "cell_type": "markdown",
   "id": "median-beads",
   "metadata": {},
   "source": [
    "# Cold Start"
   ]
  },
  {
   "cell_type": "code",
   "execution_count": 18,
   "id": "particular-corps",
   "metadata": {},
   "outputs": [
    {
     "ename": "ValueError",
     "evalue": "The first argument to `Layer.call` must always be passed.",
     "output_type": "error",
     "traceback": [
      "\u001b[0;31m---------------------------------------------------------------------------\u001b[0m",
      "\u001b[0;31mValueError\u001b[0m                                Traceback (most recent call last)",
      "\u001b[0;32m<ipython-input-18-e604b1f99c15>\u001b[0m in \u001b[0;36m<module>\u001b[0;34m\u001b[0m\n\u001b[1;32m      8\u001b[0m     \u001b[0mutil_vocab\u001b[0m\u001b[0;34m=\u001b[0m\u001b[0;36m4\u001b[0m\u001b[0;34m,\u001b[0m\u001b[0;34m\u001b[0m\u001b[0;34m\u001b[0m\u001b[0m\n\u001b[1;32m      9\u001b[0m     \u001b[0mdate_vocab\u001b[0m\u001b[0;34m=\u001b[0m\u001b[0;36m365\u001b[0m\u001b[0;34m,\u001b[0m\u001b[0;34m\u001b[0m\u001b[0;34m\u001b[0m\u001b[0m\n\u001b[0;32m---> 10\u001b[0;31m     \u001b[0mcat_vocab\u001b[0m\u001b[0;34m=\u001b[0m\u001b[0mlen\u001b[0m\u001b[0;34m(\u001b[0m\u001b[0mcat2int\u001b[0m\u001b[0;34m)\u001b[0m\u001b[0;34m,\u001b[0m\u001b[0;34m\u001b[0m\u001b[0;34m\u001b[0m\u001b[0m\n\u001b[0m\u001b[1;32m     11\u001b[0m )\n",
      "\u001b[0;32m/usr/local/lib/python3.7/site-packages/tensorflow/python/keras/engine/base_layer.py\u001b[0m in \u001b[0;36m__call__\u001b[0;34m(self, *args, **kwargs)\u001b[0m\n\u001b[1;32m    940\u001b[0m     \u001b[0;31m#   not to any other argument.\u001b[0m\u001b[0;34m\u001b[0m\u001b[0;34m\u001b[0m\u001b[0;34m\u001b[0m\u001b[0m\n\u001b[1;32m    941\u001b[0m     \u001b[0;31m# - setting the SavedModel saving spec.\u001b[0m\u001b[0;34m\u001b[0m\u001b[0;34m\u001b[0m\u001b[0;34m\u001b[0m\u001b[0m\n\u001b[0;32m--> 942\u001b[0;31m     \u001b[0minputs\u001b[0m\u001b[0;34m,\u001b[0m \u001b[0margs\u001b[0m\u001b[0;34m,\u001b[0m \u001b[0mkwargs\u001b[0m \u001b[0;34m=\u001b[0m \u001b[0mself\u001b[0m\u001b[0;34m.\u001b[0m\u001b[0m_split_out_first_arg\u001b[0m\u001b[0;34m(\u001b[0m\u001b[0margs\u001b[0m\u001b[0;34m,\u001b[0m \u001b[0mkwargs\u001b[0m\u001b[0;34m)\u001b[0m\u001b[0;34m\u001b[0m\u001b[0;34m\u001b[0m\u001b[0m\n\u001b[0m\u001b[1;32m    943\u001b[0m     \u001b[0minput_list\u001b[0m \u001b[0;34m=\u001b[0m \u001b[0mnest\u001b[0m\u001b[0;34m.\u001b[0m\u001b[0mflatten\u001b[0m\u001b[0;34m(\u001b[0m\u001b[0minputs\u001b[0m\u001b[0;34m)\u001b[0m\u001b[0;34m\u001b[0m\u001b[0;34m\u001b[0m\u001b[0m\n\u001b[1;32m    944\u001b[0m \u001b[0;34m\u001b[0m\u001b[0m\n",
      "\u001b[0;32m/usr/local/lib/python3.7/site-packages/tensorflow/python/keras/engine/base_layer.py\u001b[0m in \u001b[0;36m_split_out_first_arg\u001b[0;34m(self, args, kwargs)\u001b[0m\n\u001b[1;32m   3046\u001b[0m     \u001b[0;32melse\u001b[0m\u001b[0;34m:\u001b[0m\u001b[0;34m\u001b[0m\u001b[0;34m\u001b[0m\u001b[0m\n\u001b[1;32m   3047\u001b[0m       raise ValueError(\n\u001b[0;32m-> 3048\u001b[0;31m           'The first argument to `Layer.call` must always be passed.')\n\u001b[0m\u001b[1;32m   3049\u001b[0m     \u001b[0;32mreturn\u001b[0m \u001b[0minputs\u001b[0m\u001b[0;34m,\u001b[0m \u001b[0margs\u001b[0m\u001b[0;34m,\u001b[0m \u001b[0mkwargs\u001b[0m\u001b[0;34m\u001b[0m\u001b[0;34m\u001b[0m\u001b[0m\n\u001b[1;32m   3050\u001b[0m \u001b[0;34m\u001b[0m\u001b[0m\n",
      "\u001b[0;31mValueError\u001b[0m: The first argument to `Layer.call` must always be passed."
     ]
    },
    {
     "name": "stdout",
     "output_type": "stream",
     "text": [
      "time: 58.9 ms\n"
     ]
    }
   ],
   "source": [
    "m = model(\n",
    "    patient_dim=PATIENT_DIM,\n",
    "    max_visit=MAX_VISIT,\n",
    "    max_code=MAX_CODE,\n",
    "    max_demo=MAX_DEMO,\n",
    "    code_vocab=len(code2int),\n",
    "    demo_vocab=len(demo2int),\n",
    "    util_vocab=4,\n",
    "    date_vocab=365,\n",
    "    cat_vocab=len(cat2int),\n",
    ")"
   ]
  },
  {
   "cell_type": "code",
   "execution_count": null,
   "id": "demonstrated-congress",
   "metadata": {},
   "outputs": [],
   "source": []
  },
  {
   "cell_type": "code",
   "execution_count": 19,
   "id": "frozen-borough",
   "metadata": {},
   "outputs": [
    {
     "ename": "NameError",
     "evalue": "name 'm' is not defined",
     "output_type": "error",
     "traceback": [
      "\u001b[0;31m---------------------------------------------------------------------------\u001b[0m",
      "\u001b[0;31mNameError\u001b[0m                                 Traceback (most recent call last)",
      "\u001b[0;32m<ipython-input-19-440ef62b5236>\u001b[0m in \u001b[0;36m<module>\u001b[0;34m\u001b[0m\n\u001b[0;32m----> 1\u001b[0;31m m.compile(optimizer=\"RMSprop\", loss=tf.keras.losses.BinaryCrossentropy(), metrics=[tf.keras.metrics.Recall(top_k=5), \n\u001b[0m\u001b[1;32m      2\u001b[0m                                                                                        \u001b[0mtf\u001b[0m\u001b[0;34m.\u001b[0m\u001b[0mkeras\u001b[0m\u001b[0;34m.\u001b[0m\u001b[0mmetrics\u001b[0m\u001b[0;34m.\u001b[0m\u001b[0mRecall\u001b[0m\u001b[0;34m(\u001b[0m\u001b[0mtop_k\u001b[0m\u001b[0;34m=\u001b[0m\u001b[0;36m10\u001b[0m\u001b[0;34m)\u001b[0m\u001b[0;34m,\u001b[0m\u001b[0;34m\u001b[0m\u001b[0;34m\u001b[0m\u001b[0m\n\u001b[1;32m      3\u001b[0m                                                                                        tf.keras.metrics.Recall(top_k=30)])\n\u001b[1;32m      4\u001b[0m \u001b[0mprint\u001b[0m\u001b[0;34m(\u001b[0m\u001b[0mm\u001b[0m\u001b[0;34m.\u001b[0m\u001b[0msummary\u001b[0m\u001b[0;34m(\u001b[0m\u001b[0;34m)\u001b[0m\u001b[0;34m)\u001b[0m\u001b[0;34m\u001b[0m\u001b[0;34m\u001b[0m\u001b[0m\n",
      "\u001b[0;31mNameError\u001b[0m: name 'm' is not defined"
     ]
    },
    {
     "name": "stdout",
     "output_type": "stream",
     "text": [
      "time: 16.8 ms\n"
     ]
    }
   ],
   "source": [
    "m.compile(optimizer=\"RMSprop\", loss=tf.keras.losses.BinaryCrossentropy(), metrics=[tf.keras.metrics.Recall(top_k=5), \n",
    "                                                                                       tf.keras.metrics.Recall(top_k=10), \n",
    "                                                                                       tf.keras.metrics.Recall(top_k=30)])\n",
    "print(m.summary())\n"
   ]
  },
  {
   "cell_type": "code",
   "execution_count": 26,
   "id": "structural-space",
   "metadata": {},
   "outputs": [
    {
     "ename": "NameError",
     "evalue": "name 'm' is not defined",
     "output_type": "error",
     "traceback": [
      "\u001b[0;31m---------------------------------------------------------------------------\u001b[0m",
      "\u001b[0;31mNameError\u001b[0m                                 Traceback (most recent call last)",
      "\u001b[0;32m<ipython-input-26-ea420610e986>\u001b[0m in \u001b[0;36m<module>\u001b[0;34m\u001b[0m\n\u001b[1;32m      1\u001b[0m \u001b[0mopt\u001b[0m \u001b[0;34m=\u001b[0m \u001b[0mtf\u001b[0m\u001b[0;34m.\u001b[0m\u001b[0mkeras\u001b[0m\u001b[0;34m.\u001b[0m\u001b[0moptimizers\u001b[0m\u001b[0;34m.\u001b[0m\u001b[0mAdam\u001b[0m\u001b[0;34m(\u001b[0m\u001b[0mlearning_rate\u001b[0m\u001b[0;34m=\u001b[0m\u001b[0;36m0.01\u001b[0m\u001b[0;34m)\u001b[0m\u001b[0;34m\u001b[0m\u001b[0;34m\u001b[0m\u001b[0m\n\u001b[0;32m----> 2\u001b[0;31m m.compile(optimizer=opt, loss=tf.keras.losses.BinaryCrossentropy(), metrics=[tf.keras.metrics.Recall(top_k=5), \n\u001b[0m\u001b[1;32m      3\u001b[0m                                                                                        \u001b[0mtf\u001b[0m\u001b[0;34m.\u001b[0m\u001b[0mkeras\u001b[0m\u001b[0;34m.\u001b[0m\u001b[0mmetrics\u001b[0m\u001b[0;34m.\u001b[0m\u001b[0mRecall\u001b[0m\u001b[0;34m(\u001b[0m\u001b[0mtop_k\u001b[0m\u001b[0;34m=\u001b[0m\u001b[0;36m10\u001b[0m\u001b[0;34m)\u001b[0m\u001b[0;34m,\u001b[0m\u001b[0;34m\u001b[0m\u001b[0;34m\u001b[0m\u001b[0m\n\u001b[1;32m      4\u001b[0m                                                                                        tf.keras.metrics.Recall(top_k=30)])\n\u001b[1;32m      5\u001b[0m \u001b[0mprint\u001b[0m\u001b[0;34m(\u001b[0m\u001b[0mm\u001b[0m\u001b[0;34m.\u001b[0m\u001b[0msummary\u001b[0m\u001b[0;34m(\u001b[0m\u001b[0;34m)\u001b[0m\u001b[0;34m)\u001b[0m\u001b[0;34m\u001b[0m\u001b[0;34m\u001b[0m\u001b[0m\n",
      "\u001b[0;31mNameError\u001b[0m: name 'm' is not defined"
     ]
    },
    {
     "name": "stdout",
     "output_type": "stream",
     "text": [
      "time: 18.9 ms\n"
     ]
    }
   ],
   "source": [
    "opt = tf.keras.optimizers.Adam(learning_rate=0.01)\n",
    "m.compile(optimizer=opt, loss=tf.keras.losses.BinaryCrossentropy(), metrics=[tf.keras.metrics.Recall(top_k=5), \n",
    "                                                                                       tf.keras.metrics.Recall(top_k=10), \n",
    "                                                                                       tf.keras.metrics.Recall(top_k=30)])\n",
    "print(m.summary())"
   ]
  },
  {
   "cell_type": "code",
   "execution_count": null,
   "id": "cleared-swimming",
   "metadata": {},
   "outputs": [],
   "source": [
    "cold_start_his = m.fit(\n",
    "    train_generator,\n",
    "    epochs=EPOCHS,\n",
    "    validation_data=valid_generator,\n",
    "    verbose=2,\n",
    ")\n"
   ]
  },
  {
   "cell_type": "code",
   "execution_count": null,
   "id": "apparent-percentage",
   "metadata": {},
   "outputs": [],
   "source": []
  },
  {
   "cell_type": "code",
   "execution_count": null,
   "id": "shaped-variable",
   "metadata": {},
   "outputs": [],
   "source": []
  },
  {
   "cell_type": "markdown",
   "id": "japanese-canvas",
   "metadata": {},
   "source": [
    "# plot"
   ]
  },
  {
   "cell_type": "code",
   "execution_count": 21,
   "id": "comprehensive-playback",
   "metadata": {},
   "outputs": [
    {
     "name": "stdout",
     "output_type": "stream",
     "text": [
      "time: 218 ms\n"
     ]
    }
   ],
   "source": [
    "import matplotlib.pyplot as plt\n",
    "\n"
   ]
  },
  {
   "cell_type": "code",
   "execution_count": 22,
   "id": "established-probe",
   "metadata": {},
   "outputs": [
    {
     "ename": "KeyError",
     "evalue": "'val_code_label_recall_19'",
     "output_type": "error",
     "traceback": [
      "\u001b[0;31m---------------------------------------------------------------------------\u001b[0m",
      "\u001b[0;31mKeyError\u001b[0m                                  Traceback (most recent call last)",
      "\u001b[0;32m<ipython-input-22-d990d1626ccd>\u001b[0m in \u001b[0;36m<module>\u001b[0;34m\u001b[0m\n\u001b[0;32m----> 1\u001b[0;31m \u001b[0mft_recall_5\u001b[0m \u001b[0;34m=\u001b[0m \u001b[0;34m[\u001b[0m\u001b[0;36m0.2107\u001b[0m\u001b[0;34m]\u001b[0m \u001b[0;34m+\u001b[0m \u001b[0mfinetune_history\u001b[0m\u001b[0;34m.\u001b[0m\u001b[0mhistory\u001b[0m\u001b[0;34m[\u001b[0m\u001b[0;34m'val_code_label_recall_19'\u001b[0m\u001b[0;34m]\u001b[0m\u001b[0;34m\u001b[0m\u001b[0;34m\u001b[0m\u001b[0m\n\u001b[0m\u001b[1;32m      2\u001b[0m \u001b[0mft_recall_10\u001b[0m \u001b[0;34m=\u001b[0m \u001b[0;34m[\u001b[0m\u001b[0;36m0.3366\u001b[0m\u001b[0;34m]\u001b[0m \u001b[0;34m+\u001b[0m \u001b[0mfinetune_history\u001b[0m\u001b[0;34m.\u001b[0m\u001b[0mhistory\u001b[0m\u001b[0;34m[\u001b[0m\u001b[0;34m'val_code_label_recall_20'\u001b[0m\u001b[0;34m]\u001b[0m\u001b[0;34m\u001b[0m\u001b[0;34m\u001b[0m\u001b[0m\n\u001b[1;32m      3\u001b[0m \u001b[0mft_recall_30\u001b[0m \u001b[0;34m=\u001b[0m \u001b[0;34m[\u001b[0m\u001b[0;36m0.5424\u001b[0m\u001b[0;34m]\u001b[0m \u001b[0;34m+\u001b[0m \u001b[0mfinetune_history\u001b[0m\u001b[0;34m.\u001b[0m\u001b[0mhistory\u001b[0m\u001b[0;34m[\u001b[0m\u001b[0;34m'val_code_label_recall_21'\u001b[0m\u001b[0;34m]\u001b[0m\u001b[0;34m\u001b[0m\u001b[0;34m\u001b[0m\u001b[0m\n\u001b[1;32m      4\u001b[0m \u001b[0;34m\u001b[0m\u001b[0m\n\u001b[1;32m      5\u001b[0m \u001b[0mcs_recall_5\u001b[0m \u001b[0;34m=\u001b[0m \u001b[0mcold_start_his\u001b[0m\u001b[0;34m.\u001b[0m\u001b[0mhistory\u001b[0m\u001b[0;34m[\u001b[0m\u001b[0;34m'val_recall_41'\u001b[0m\u001b[0;34m]\u001b[0m\u001b[0;34m\u001b[0m\u001b[0;34m\u001b[0m\u001b[0m\n",
      "\u001b[0;31mKeyError\u001b[0m: 'val_code_label_recall_19'"
     ]
    },
    {
     "name": "stdout",
     "output_type": "stream",
     "text": [
      "time: 19.9 ms\n"
     ]
    }
   ],
   "source": [
    "ft_recall_5 = [0.2107] + finetune_history.history['val_code_label_recall_19']\n",
    "ft_recall_10 = [0.3366] + finetune_history.history['val_code_label_recall_20']\n",
    "ft_recall_30 = [0.5424] + finetune_history.history['val_code_label_recall_21']\n",
    "\n",
    "cs_recall_5 = cold_start_his.history['val_recall_41']\n",
    "cs_recall_10 = cold_start_his.history['val_recall_42']\n",
    "cs_recall_30 = cold_start_his.history['val_recall_43']"
   ]
  },
  {
   "cell_type": "code",
   "execution_count": null,
   "id": "ordered-fraud",
   "metadata": {},
   "outputs": [],
   "source": [
    "value1 = ft_recall_5\n",
    "value2 = cs_recall_5\n",
    "\n",
    "length = len(value1)\n",
    "plt.plot(range(length), value1, \"-s\", label=\"Finetune\")\n",
    "plt.plot(range(1, length), value2, \"-s\", label=\"w/o Pretrain\")\n",
    "\n",
    "\n",
    "plt.xticks(range(length))\n",
    "plt.ylabel('Recall@5')\n",
    "plt.xlabel(\"EPOCHS\")\n",
    "plt.legend()\n",
    "plt.show()"
   ]
  },
  {
   "cell_type": "code",
   "execution_count": 151,
   "id": "gothic-evaluation",
   "metadata": {},
   "outputs": [
    {
     "data": {
      "image/png": "[encoded data removed]",
      "text/plain": [
       "<Figure size 432x288 with 1 Axes>"
      ]
     },
     "metadata": {
      "needs_background": "light"
     },
     "output_type": "display_data"
    },
    {
     "name": "stdout",
     "output_type": "stream",
     "text": [
      "time: 295 ms\n"
     ]
    }
   ],
   "source": [
    "value1 = ft_recall_5\n",
    "value2 = cs_recall_5\n",
    "\n",
    "length = len(value1)\n",
    "plt.plot(range(length), value1, \"-s\", label=\"Finetune\")\n",
    "plt.plot(range(1, length), value2, \"-s\", label=\"w/o Pretrain\")\n",
    "\n",
    "\n",
    "plt.xticks(range(length))\n",
    "plt.ylabel('Recall@5')\n",
    "plt.xlabel(\"EPOCHS\")\n",
    "plt.legend()\n",
    "plt.show()"
   ]
  },
  {
   "cell_type": "code",
   "execution_count": 152,
   "id": "confirmed-exhibit",
   "metadata": {},
   "outputs": [
    {
     "data": {
      "image/png": "[encoded data removed]",
      "text/plain": [
       "<Figure size 432x288 with 1 Axes>"
      ]
     },
     "metadata": {
      "needs_background": "light"
     },
     "output_type": "display_data"
    },
    {
     "name": "stdout",
     "output_type": "stream",
     "text": [
      "time: 229 ms\n"
     ]
    }
   ],
   "source": [
    "value1 = ft_recall_10\n",
    "value2 = cs_recall_10\n",
    "name = \"Recall@10\"\n",
    "\n",
    "length = len(value1)\n",
    "plt.plot(range(length), value1, \"-s\", label=\"Finetune\")\n",
    "plt.plot(range(1, length), value2, \"-s\", label=\"w/o Pretrain\")\n",
    "\n",
    "\n",
    "plt.xticks(range(length))\n",
    "plt.ylabel(name)\n",
    "plt.xlabel(\"EPOCHS\")\n",
    "plt.legend()\n",
    "plt.show()"
   ]
  },
  {
   "cell_type": "code",
   "execution_count": 154,
   "id": "attached-printer",
   "metadata": {},
   "outputs": [
    {
     "data": {
      "image/png": "[encoded data removed]",
      "text/plain": [
       "<Figure size 432x288 with 1 Axes>"
      ]
     },
     "metadata": {
      "needs_background": "light"
     },
     "output_type": "display_data"
    },
    {
     "name": "stdout",
     "output_type": "stream",
     "text": [
      "time: 208 ms\n"
     ]
    }
   ],
   "source": [
    "value1 = ft_recall_30\n",
    "value2 = cs_recall_30\n",
    "name = \"Recall@30\"\n",
    "\n",
    "length = len(value1)\n",
    "plt.plot(range(length), value1, \"-s\", label=\"Finetune\")\n",
    "plt.plot(range(1, length), value2, \"-s\", label=\"w/o Pretrain\")\n",
    "\n",
    "\n",
    "plt.xticks(range(length))\n",
    "plt.ylabel(name)\n",
    "plt.xlabel(\"EPOCHS\")\n",
    "plt.legend(loc='center right')\n",
    "plt.show()"
   ]
  },
  {
   "cell_type": "code",
   "execution_count": null,
   "id": "united-recall",
   "metadata": {},
   "outputs": [],
   "source": []
  }
 ],
 "metadata": {
  "kernelspec": {
   "display_name": "Python 3",
   "language": "python",
   "name": "python3"
  },
  "language_info": {
   "codemirror_mode": {
    "name": "ipython",
    "version": 3
   },
   "file_extension": ".py",
   "mimetype": "text/x-python",
   "name": "python",
   "nbconvert_exporter": "python",
   "pygments_lexer": "ipython3",
   "version": "3.7.11"
  }
 },
 "nbformat": 4,
 "nbformat_minor": 5
}
